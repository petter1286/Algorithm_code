{
 "cells": [
  {
   "cell_type": "markdown",
   "metadata": {},
   "source": [
    "# 구현\n",
    "\n",
    "## 시각\n",
    "\n",
    "##### 시간제한 : 2초 / 메모리 제한 : 128MB\n",
    "\n",
    "정수 N이 입력되면 00시 00분 00초부터 N시 59분 59초까지의 모든 시각 중에서 3이 하나라도 포함되는 모든 경우의 수를 구하는 프로그램을 작성하시오. 예를 들어 1을 입력했을 때 다음은 3이 하나라도 포함되어 있으므로 세어야 하는 시각이다.\n",
    "\n",
    "- 00시 00분 03초\n",
    "- 00시 13분 30초\n",
    "\n",
    "반면에 다음은 3이 하나도 포함되어 있지 않으므로 세면 안 되는 시각이다.\n",
    "\n",
    "- 00시 02분 55초\n",
    "- 01시 27분 45초\n",
    "\n",
    "##### 입력 조건\n",
    "\n",
    "- 첫째 줄에 정수 N이 입력된다. (0 <= N <= 23)\n",
    "\n",
    "##### 출력 조건\n",
    "\n",
    "- 00시 00분 00초 부터 N시 59분 59초까지의 모든 시각 중에서 3이 하나라도 포함되는 모든 경우의 수를 출력한다.\n"
   ]
  },
  {
   "cell_type": "code",
   "execution_count": 35,
   "metadata": {},
   "outputs": [
    {
     "name": "stdout",
     "output_type": "stream",
     "text": [
      "5\n",
      "11475\n"
     ]
    }
   ],
   "source": [
    "n = int(input())\n",
    "result = 0\n",
    "for hour in range(n+1):\n",
    "    for minute in range(60):\n",
    "        for second in range(60):\n",
    "            num = str(hour)+str(minute)+str(second)\n",
    "            if '3' in list(num):\n",
    "                result+=1\n",
    "print(result)                  "
   ]
  }
 ],
 "metadata": {
  "kernelspec": {
   "display_name": "Python 3",
   "language": "python",
   "name": "python3"
  },
  "language_info": {
   "codemirror_mode": {
    "name": "ipython",
    "version": 3
   },
   "file_extension": ".py",
   "mimetype": "text/x-python",
   "name": "python",
   "nbconvert_exporter": "python",
   "pygments_lexer": "ipython3",
   "version": "3.7.7"
  }
 },
 "nbformat": 4,
 "nbformat_minor": 4
}
