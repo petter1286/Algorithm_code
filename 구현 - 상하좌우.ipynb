{
 "cells": [
  {
   "cell_type": "markdown",
   "metadata": {},
   "source": [
    "# 구현\n",
    "\n",
    "## 상하좌우\n",
    "\n",
    "\n",
    "##### 시간 제한 : 1초 / 메모리 제한 : 128MB\n",
    "\n",
    "여행가 A는 N x N 크기의 정사각형 공간 위에 있다. 이 공간은 1 x 1 크기의 정사각형으로 나누어져 있다. 가장 왼쪽 위 좌표는 (1, 1)이며 가장 오른쪽 좌표는 (N, N)에 해당한다. 여행가 A는 상, 하, 좌, 우 방향으로 이동할 수 있으며, 시작 좌표는 항상 (1, 1)이다. 우리 앞에는 여행가 A가 이동할 계획이 적힌 계획서가 놓여있다. 계획서에는 하나의 줄에 띄어쓰기를 기준으로 하여 L, R, U, D 중 하나의 문자가 반복적으로 적혀있다. 각 문자의 의미는 다음과 같다.\n",
    "\n",
    "- L : 왼쪽으로 한 칸 이동\n",
    "- R : 오른쪽으로 한 칸 이동\n",
    "- U : 위로 한 칸 이동\n",
    "- D : 아래로 한 칸 이동\n",
    "\n",
    "이때 여행가 A가 N x N 크기의 정사각형 공간을 벗어나는 움직임은 무시된다. 계획서가 주어졌을 때 여행가 A가 최종적으로 도착할 지점의 좌표를 출력하는 프로그램을 작성하시오.\n",
    "\n",
    "\n",
    "##### 입력 조건\n",
    "\n",
    "- 첫째 줄에 공간의 크기를 나타내는 N이 주어진다. (1 <= N < 100)\n",
    "- 둘째 줄에 여행가 A가 이동할 계획서 내용이 주어진다. (1 <= 이동 횟수 <= 100)\n",
    "\n",
    "##### 출력 조건\n",
    "\n",
    "- 첫째 줄에 여행가 A가 최종적으로 도착할 지점의 좌표 (X, Y)를 공백으로 구분하여 출력한다."
   ]
  },
  {
   "cell_type": "code",
   "execution_count": 22,
   "metadata": {},
   "outputs": [
    {
     "name": "stdout",
     "output_type": "stream",
     "text": [
      "5\n",
      "R R R R R R R R R R R\n",
      "1 5\n"
     ]
    }
   ],
   "source": [
    "n = int(input())\n",
    "dir_list = input().split()\n",
    "direction = {'L' : -1,'R':1,'U':-1,'D':1}\n",
    "\n",
    "location = [1,1]\n",
    "\n",
    "for i in range(len(dir_list)):\n",
    "    if dir_list[i] in ['U','D']:\n",
    "        if (location[0]+direction[dir_list[i]] > 0 )and (location[0]+direction[dir_list[i]] <= n ):\n",
    "            \n",
    "            location[0] = location[0]+direction[dir_list[i]]\n",
    "    if dir_list[i] in ['R','L']:\n",
    "        if (location[1]+direction[dir_list[i]] > 0 )and (location[1]+direction[dir_list[i]] <= n ):\n",
    "            \n",
    "            location[1] = location[1]+direction[dir_list[i]]\n",
    "print(location[0],location[1])"
   ]
  }
 ],
 "metadata": {
  "kernelspec": {
   "display_name": "Python 3",
   "language": "python",
   "name": "python3"
  },
  "language_info": {
   "codemirror_mode": {
    "name": "ipython",
    "version": 3
   },
   "file_extension": ".py",
   "mimetype": "text/x-python",
   "name": "python",
   "nbconvert_exporter": "python",
   "pygments_lexer": "ipython3",
   "version": "3.7.7"
  }
 },
 "nbformat": 4,
 "nbformat_minor": 4
}
