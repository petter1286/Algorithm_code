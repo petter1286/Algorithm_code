{
 "cells": [
  {
   "cell_type": "markdown",
   "metadata": {},
   "source": [
    "# Greedy \n",
    "\n",
    "## 큰 수의 법칙\n",
    "\n",
    "##### 시간 제한 : 1초 / 메모리 제한 : 128MB\n",
    "\n",
    "\n",
    "동빈이는 본인만의 방식으로 큰 수의 법칙을 사용하려 한다. 다양한 수로 이루어진 배열의 수를 M번 더하여 가장 큰 수를 만드는 법칙이다. 단 배열의 특정한 인덱스에 해당하는 수가 연속해서 K번을 초과하여 더해질 수 없다. \n",
    "\n",
    "예시)\n",
    "\n",
    "배열 [2, 4, 5, 6, 5]  M = 8 / K = 3\n",
    "\n",
    "특정한 인덱스의 수가 연속해서 세번까지만 합해질 수 있고 총 8번 합할 수 있다.\n",
    "\n",
    "-> 6 + 6 + 6 + 5 + 6 + 6 + 6 + 5\n",
    "\n",
    " = 46\n",
    " \n",
    "\n",
    "##### 입력 조건\n",
    "\n",
    "- 첫째 줄에 N(2 <= N <= 1000), M(1 <= M <= 10000), K(1 <= K <= 10000)의 자연수가 주어지며 각 자연수는 공백으로 구분한다.\n",
    "- 둘째 줄에 N개의 자연수가 주어진다. 각 자연수는 공백으로 구분한다. 단 각각의 자연수는 1 이상 10000이하의 수로 주어진다.\n",
    "- 입력으로 주어지는 K는 항상 M보다 작거나 같다.\n",
    "\n",
    "##### 출력 조건\n",
    "\n",
    "- 첫째 줄에 동빈이의 큰 수의 법칙에 따라 더해진 답을 출력한다.\n",
    "\n",
    " "
   ]
  },
  {
   "cell_type": "code",
   "execution_count": 18,
   "metadata": {},
   "outputs": [
    {
     "name": "stdout",
     "output_type": "stream",
     "text": [
      "46\n",
      "time : 0.0001468658447265625\n"
     ]
    }
   ],
   "source": [
    "#시간 체크\n",
    "import time\n",
    "start_time = time.time()\n",
    "\n",
    "#소스 코드\n",
    "n, m, k = map(int,input().split())\n",
    "data = list(map(int,input().split()))\n",
    "\n",
    "data.sort()\n",
    "result = 0\n",
    "a = 0\n",
    "for i in range(m):\n",
    "    if a == 3:\n",
    "        result += data[-2]\n",
    "        a=0\n",
    "    else:\n",
    "        result += data[-1]\n",
    "        a+=1\n",
    "\n",
    "end_time = time.time()\n",
    "\n",
    "print(result)\n",
    "\n",
    "#시간 출력\n",
    "print(\"time :\", end_time - start_time)\n"
   ]
  },
  {
   "cell_type": "markdown",
   "metadata": {},
   "source": [
    "위 코드는 O(N)의 시간 복잡도를 갖는다."
   ]
  },
  {
   "cell_type": "code",
   "execution_count": 20,
   "metadata": {},
   "outputs": [
    {
     "name": "stdout",
     "output_type": "stream",
     "text": [
      "5 8 3\n",
      "2 4 5 4 6\n",
      "46\n",
      "time : 0.0002601146697998047\n"
     ]
    }
   ],
   "source": [
    "\n",
    "\n",
    "\n",
    "#소스 코드\n",
    "n, m, k = map(int,input().split())\n",
    "data = list(map(int,input().split()))\n",
    "\n",
    "#시간 체크\n",
    "import time\n",
    "start_time = time.time()\n",
    "\n",
    "data.sort()\n",
    "\n",
    "quot = m //(k+1)\n",
    "rest = m % (k+1)\n",
    "\n",
    "result = (data[-1] * k + data[-2]) * quot + data[-1]*rest \n",
    "\n",
    "\n",
    "\n",
    "end_time = time.time()\n",
    "\n",
    "print(result)\n",
    "\n",
    "#시간 출력\n",
    "print(\"time :\", end_time - start_time)\n"
   ]
  },
  {
   "cell_type": "markdown",
   "metadata": {},
   "source": [
    "O(1) 인 알고리즘"
   ]
  }
 ],
 "metadata": {
  "kernelspec": {
   "display_name": "Python 3",
   "language": "python",
   "name": "python3"
  },
  "language_info": {
   "codemirror_mode": {
    "name": "ipython",
    "version": 3
   },
   "file_extension": ".py",
   "mimetype": "text/x-python",
   "name": "python",
   "nbconvert_exporter": "python",
   "pygments_lexer": "ipython3",
   "version": "3.7.7"
  }
 },
 "nbformat": 4,
 "nbformat_minor": 4
}
